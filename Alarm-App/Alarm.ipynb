{
 "cells": [
  {
   "cell_type": "markdown",
   "id": "4df0b4ed-42d7-49c2-a900-35ea19957e31",
   "metadata": {},
   "source": [
    "# Alarm Clock"
   ]
  },
  {
   "cell_type": "code",
   "execution_count": 4,
   "id": "2234a6c9-ed86-44df-8de3-22dfa99c0d83",
   "metadata": {},
   "outputs": [
    {
     "name": "stdin",
     "output_type": "stream",
     "text": [
      "Enter the alarm time in the format (HH:MM:SS):  17:55:03\n"
     ]
    },
    {
     "name": "stdout",
     "output_type": "stream",
     "text": [
      "Alarm set for 17:55:03 ⏰\n",
      "17:55:03\n",
      "WAKE UP! 😲\n"
     ]
    }
   ],
   "source": [
    "import time\n",
    "import datetime\n",
    "import pygame\n",
    "\n",
    "def set_alarm(alarm_time):\n",
    "    sound_file = \"morning_alarm.mp3\"\n",
    "    is_running = True\n",
    "\n",
    "    while is_running:\n",
    "        current_time = datetime.datetime.now().strftime(\"%H:%M:%S\")\n",
    "        print(current_time, end=\"\\r\", flush=True)  # Overwrites output to avoid clutter\n",
    "\n",
    "        if current_time == alarm_time:\n",
    "            print(\"\\nWAKE UP! 😲\")\n",
    "            pygame.mixer.init()  # Corrected initialization\n",
    "            pygame.mixer.music.load(sound_file)\n",
    "            pygame.mixer.music.play()\n",
    "            \n",
    "            while pygame.mixer.music.get_busy():\n",
    "                time.sleep(1)\n",
    "                \n",
    "            is_running = False  # Stop the loop after playing the alarm\n",
    "        time.sleep(1)  # Wait 1 second before checking again\n",
    "\n",
    "def main():\n",
    "    alarm_time = input(\"Enter the alarm time in the format (HH:MM:SS): \").strip()\n",
    "\n",
    "    # Validate input time format\n",
    "    try:\n",
    "        datetime.datetime.strptime(alarm_time, \"%H:%M:%S\")  # Checks if the format is correct\n",
    "        print(f\"Alarm set for {alarm_time} ⏰\")\n",
    "        set_alarm(alarm_time)\n",
    "    except ValueError:\n",
    "        print(\"Invalid time format! Please enter time as HH:MM:SS.\")\n",
    "\n",
    "if __name__ == \"__main__\":\n",
    "    main()\n"
   ]
  },
  {
   "cell_type": "code",
   "execution_count": null,
   "id": "00e4d794-42f4-493c-b953-87be38e92326",
   "metadata": {},
   "outputs": [],
   "source": []
  }
 ],
 "metadata": {
  "kernelspec": {
   "display_name": "Python 3 (ipykernel)",
   "language": "python",
   "name": "python3"
  },
  "language_info": {
   "codemirror_mode": {
    "name": "ipython",
    "version": 3
   },
   "file_extension": ".py",
   "mimetype": "text/x-python",
   "name": "python",
   "nbconvert_exporter": "python",
   "pygments_lexer": "ipython3",
   "version": "3.12.5"
  },
  "widgets": {
   "application/vnd.jupyter.widget-state+json": {
    "state": {},
    "version_major": 2,
    "version_minor": 0
   }
  }
 },
 "nbformat": 4,
 "nbformat_minor": 5
}
