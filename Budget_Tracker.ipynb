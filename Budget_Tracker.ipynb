{
 "cells": [
  {
   "cell_type": "code",
   "execution_count": 1,
   "id": "00163d29-ef08-407b-ba0a-158287f4b18e",
   "metadata": {},
   "outputs": [
    {
     "name": "stdout",
     "output_type": "stream",
     "text": [
      "Welcome to the Budget App\n"
     ]
    },
    {
     "name": "stdin",
     "output_type": "stream",
     "text": [
      "Enter the initial budget you want to start with:  10000\n"
     ]
    },
    {
     "name": "stdout",
     "output_type": "stream",
     "text": [
      "\n",
      "What would you like to do?\n",
      "1. Add an expense\n",
      "2. Show Budget Details\n",
      "3. Exit the application\n"
     ]
    },
    {
     "name": "stdin",
     "output_type": "stream",
     "text": [
      "Enter your choice (1/2/3):  2\n"
     ]
    },
    {
     "name": "stdout",
     "output_type": "stream",
     "text": [
      "\n",
      "The Total Budget is: 10000.0\n",
      "Expenses: []\n",
      "Total amount spent: 0\n",
      "Total Budget left: 10000.0\n",
      "\n",
      "What would you like to do?\n",
      "1. Add an expense\n",
      "2. Show Budget Details\n",
      "3. Exit the application\n"
     ]
    },
    {
     "name": "stdin",
     "output_type": "stream",
     "text": [
      "Enter your choice (1/2/3):  1\n",
      "Enter your expense description:  Travelling\n",
      "Enter the expense amount:  5000\n"
     ]
    },
    {
     "name": "stdout",
     "output_type": "stream",
     "text": [
      "Added Expense: Travelling and amount is 5000.0\n",
      "\n",
      "What would you like to do?\n",
      "1. Add an expense\n",
      "2. Show Budget Details\n",
      "3. Exit the application\n"
     ]
    },
    {
     "name": "stdin",
     "output_type": "stream",
     "text": [
      "Enter your choice (1/2/3):  2\n"
     ]
    },
    {
     "name": "stdout",
     "output_type": "stream",
     "text": [
      "\n",
      "The Total Budget is: 10000.0\n",
      "Expenses: [{'description': 'Travelling', 'amount': 5000.0}]\n",
      "Total amount spent: 5000.0\n",
      "Total Budget left: 5000.0\n",
      "\n",
      "What would you like to do?\n",
      "1. Add an expense\n",
      "2. Show Budget Details\n",
      "3. Exit the application\n"
     ]
    },
    {
     "name": "stdin",
     "output_type": "stream",
     "text": [
      "Enter your choice (1/2/3):  3\n"
     ]
    },
    {
     "name": "stdout",
     "output_type": "stream",
     "text": [
      "Thank you for using our Budget App!\n"
     ]
    }
   ],
   "source": [
    "def add_expenses(expenses, description, amount):\n",
    "    expenses.append({\"description\": description, \"amount\": amount})\n",
    "    print(f\"Added Expense: {description} and amount is {amount}\")\n",
    "\n",
    "def get_total_expenses(expenses):\n",
    "    total_sum = 0\n",
    "    for expense in expenses:\n",
    "        total_sum += expense.get(\"amount\", 0)  # Default to 0 in case of missing key\n",
    "    return total_sum\n",
    "\n",
    "def get_total_budget(budget, expenses):\n",
    "    return budget - get_total_expenses(expenses)\n",
    "\n",
    "def show_budget_details(budget, expenses):\n",
    "    print(f\"\\nThe Total Budget is: {budget}\")\n",
    "    print(f\"Expenses: {expenses}\")\n",
    "    print(f\"Total amount spent: {get_total_expenses(expenses)}\")\n",
    "    print(f\"Total Budget left: {get_total_budget(budget, expenses)}\")\n",
    "\n",
    "def main():\n",
    "    print(\"Welcome to the Budget App\")\n",
    "    initial_budget = float(input(\"Enter the initial budget you want to start with: \"))\n",
    "    expenses = []\n",
    "    \n",
    "    while True:\n",
    "        print(\"\\nWhat would you like to do?\")\n",
    "        print(\"1. Add an expense\")\n",
    "        print(\"2. Show Budget Details\")\n",
    "        print(\"3. Exit the application\")\n",
    "        \n",
    "        choice = input(\"Enter your choice (1/2/3): \")\n",
    "        \n",
    "        match choice:\n",
    "            case \"1\":\n",
    "                description = input(\"Enter your expense description: \")\n",
    "                amount = float(input(\"Enter the expense amount: \"))\n",
    "                add_expenses(expenses, description, amount)\n",
    "            case \"2\":\n",
    "                show_budget_details(initial_budget, expenses)  \n",
    "            case \"3\":\n",
    "                print(\"Thank you for using our Budget App!\")\n",
    "                break\n",
    "            case _:\n",
    "                print(\"Invalid choice, please enter 1, 2, or 3.\")\n",
    "\n",
    "if __name__ == \"__main__\":\n",
    "    main()\n"
   ]
  },
  {
   "cell_type": "code",
   "execution_count": null,
   "id": "07ad7362-8c05-4682-9941-277ad7d9f221",
   "metadata": {},
   "outputs": [],
   "source": []
  }
 ],
 "metadata": {
  "kernelspec": {
   "display_name": "Python 3 (ipykernel)",
   "language": "python",
   "name": "python3"
  },
  "language_info": {
   "codemirror_mode": {
    "name": "ipython",
    "version": 3
   },
   "file_extension": ".py",
   "mimetype": "text/x-python",
   "name": "python",
   "nbconvert_exporter": "python",
   "pygments_lexer": "ipython3",
   "version": "3.12.5"
  },
  "widgets": {
   "application/vnd.jupyter.widget-state+json": {
    "state": {},
    "version_major": 2,
    "version_minor": 0
   }
  }
 },
 "nbformat": 4,
 "nbformat_minor": 5
}
