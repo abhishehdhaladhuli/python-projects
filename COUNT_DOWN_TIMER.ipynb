{
 "cells": [
  {
   "cell_type": "markdown",
   "id": "22b44ad9-7a90-4089-aaf7-b4e82d0ed5a6",
   "metadata": {},
   "source": [
    "# COUNT DOWN TIMER"
   ]
  },
  {
   "cell_type": "code",
   "execution_count": 8,
   "id": "ffdc1360-1048-4c8c-b54f-cbe6dafca2f7",
   "metadata": {},
   "outputs": [
    {
     "name": "stdin",
     "output_type": "stream",
     "text": [
      "Enter the time in seconds:  15\n"
     ]
    },
    {
     "name": "stdout",
     "output_type": "stream",
     "text": [
      "15 seconds\n",
      "14 seconds\n",
      "13 seconds\n",
      "12 seconds\n",
      "11 seconds\n",
      "10 seconds\n",
      "9 seconds\n",
      "8 seconds\n",
      "7 seconds\n",
      "6 seconds\n",
      "5 seconds\n",
      "4 seconds\n",
      "3 seconds\n",
      "2 seconds\n",
      "1 seconds\n",
      "Time is up my user\n"
     ]
    }
   ],
   "source": [
    "import time as t\n",
    "my_time=int(input(\"Enter the time in seconds: \"))\n",
    "for i in range(my_time,0,-1):\n",
    "    seconds=i%60\n",
    "    minutes=int(x/60)%60\n",
    "    hours=int(x/3600)\n",
    "    print(f\"{hours:02}:{minutes:02}:{seconds:02}\")\n",
    "    t.sleep(1)\n",
    "print(\"Time is up my user\")"
   ]
  },
  {
   "cell_type": "code",
   "execution_count": null,
   "id": "e83498af-05a0-4813-bc1f-a9bfc541e7ca",
   "metadata": {},
   "outputs": [],
   "source": []
  }
 ],
 "metadata": {
  "kernelspec": {
   "display_name": "Python 3 (ipykernel)",
   "language": "python",
   "name": "python3"
  },
  "language_info": {
   "codemirror_mode": {
    "name": "ipython",
    "version": 3
   },
   "file_extension": ".py",
   "mimetype": "text/x-python",
   "name": "python",
   "nbconvert_exporter": "python",
   "pygments_lexer": "ipython3",
   "version": "3.12.5"
  }
 },
 "nbformat": 4,
 "nbformat_minor": 5
}
