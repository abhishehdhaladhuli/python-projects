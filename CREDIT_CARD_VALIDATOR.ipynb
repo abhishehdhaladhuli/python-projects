{
 "cells": [
  {
   "cell_type": "markdown",
   "id": "e3a46f57-0bed-4965-a16f-af43ea97a376",
   "metadata": {},
   "source": [
    "# CREDIT CARD VALIDATION "
   ]
  },
  {
   "cell_type": "markdown",
   "id": "fdff96a5-e745-4d95-8c9b-e1c04dcfd987",
   "metadata": {},
   "source": [
    "1.Remove any '-' or ' '\n",
    "2.Add all digits in the odd places from the right to left\n",
    "3.Double every second digit from right to left\n",
    "    (If result is a two digit number,\n",
    "add the two digit number to obtain a single digit.)\n",
    "4.Sum the totals of two steps 2&3\n",
    "5.If sum is divisible by 10,the credit card # is valid"
   ]
  },
  {
   "cell_type": "code",
   "execution_count": 4,
   "id": "a1f6b32f-9801-4653-84e2-3d22e2379515",
   "metadata": {},
   "outputs": [
    {
     "name": "stdin",
     "output_type": "stream",
     "text": [
      "Enter the credit card number to be validated:  1234-5678-9012-3456\n"
     ]
    },
    {
     "name": "stdout",
     "output_type": "stream",
     "text": [
      "❌ The given credit card number is **INVALID**!\n"
     ]
    }
   ],
   "source": [
    "credit_card_number = input(\"Enter the credit card number to be validated: \").replace(\" \", \"\").replace(\"-\", \"\")\n",
    "\n",
    "# Ensure the input contains only digits\n",
    "if not credit_card_number.isdigit():\n",
    "    print(\"Invalid input! Please enter only numbers (no letters or special characters).\")\n",
    "else:\n",
    "    sum_of_odd_digits = 0\n",
    "    sum_of_even_digits = 0\n",
    "    reversed_digits = credit_card_number[::-1]  # Reverse for correct position tracking\n",
    "\n",
    "    for index, digit in enumerate(reversed_digits):\n",
    "        num = int(digit)\n",
    "\n",
    "        if index % 2 == 0:  # Odd-positioned in original number (even index after reversing)\n",
    "            sum_of_odd_digits += num\n",
    "        else:  # Even-positioned in original number (odd index after reversing)\n",
    "            double_num = num * 2\n",
    "            sum_of_even_digits += double_num if double_num < 10 else (double_num - 9)  # Subtract 9 if > 9\n",
    "\n",
    "    total = sum_of_odd_digits + sum_of_even_digits\n",
    "\n",
    "    if total % 10 == 0:\n",
    "        print(\"✅ The given credit card number is **VALID**!\")\n",
    "    else:\n",
    "        print(\"❌ The given credit card number is **INVALID**!\")\n"
   ]
  },
  {
   "cell_type": "code",
   "execution_count": null,
   "id": "bf2fb8d2-b2f4-443e-8079-95ca84adb9e3",
   "metadata": {},
   "outputs": [],
   "source": []
  }
 ],
 "metadata": {
  "kernelspec": {
   "display_name": "Python 3 (ipykernel)",
   "language": "python",
   "name": "python3"
  },
  "language_info": {
   "codemirror_mode": {
    "name": "ipython",
    "version": 3
   },
   "file_extension": ".py",
   "mimetype": "text/x-python",
   "name": "python",
   "nbconvert_exporter": "python",
   "pygments_lexer": "ipython3",
   "version": "3.12.5"
  }
 },
 "nbformat": 4,
 "nbformat_minor": 5
}
