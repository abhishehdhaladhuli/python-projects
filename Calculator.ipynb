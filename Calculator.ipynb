{
 "cells": [
  {
   "cell_type": "code",
   "execution_count": null,
   "id": "d8c3dee4-89b9-4bc5-bdbf-799757559ac5",
   "metadata": {},
   "outputs": [],
   "source": [
    "# Import necessary libraries\n",
    "from tkinter import *\n",
    "\n",
    "# Create main window\n",
    "window = Tk()\n",
    "window.title(\"Simple Calculator\")\n",
    "window.geometry(\"500x600\")\n",
    "window.configure(bg='pink')\n",
    "window.resizable(False, False)\n",
    "\n",
    "# Display label for result\n",
    "label_result = Label(window,\n",
    "                     height=2,\n",
    "                     width=25,\n",
    "                     text=\" \",\n",
    "                     font=(\"arial\", 30),\n",
    "                     bg=\"black\",\n",
    "                     fg=\"white\")\n",
    "label_result.pack()\n",
    "\n",
    "# Variable to store current equation\n",
    "result = \"\"\n",
    "\n",
    "# Function to display clicked button values\n",
    "def show(value):\n",
    "    global result\n",
    "    result += value\n",
    "    label_result.config(text=result)\n",
    "\n",
    "# Function to clear the display\n",
    "def clear():\n",
    "    global result\n",
    "    result = \"\"  # Reset the result variable\n",
    "    label_result.config(text=result)\n",
    "\n",
    "# Function to evaluate the result\n",
    "def calculate():\n",
    "    global result\n",
    "    try:\n",
    "        result = str(eval(result))  # Evaluate and store as string\n",
    "        label_result.config(text=result)\n",
    "    except:\n",
    "        label_result.config(text=\"Error\")\n",
    "        label_result.config(text=\" \")\n",
    "        \n",
    "\n",
    "# Buttons\n",
    "Button(window, text=\"C\", width=3, height=1, font=(\"arial\", 30, \"bold\"), bg=\"yellow\", fg=\"red\", command=clear).place(x=10, y=100)\n",
    "Button(window, text=\"/\", width=3, height=1, font=(\"arial\", 30, \"bold\"), bg=\"blue\", fg=\"red\", command=lambda: show(\"/\")).place(x=140, y=100)\n",
    "Button(window, text=\"%\", width=3, height=1, font=(\"arial\", 30, \"bold\"), bg=\"blue\", fg=\"red\", command=lambda: show(\"%\")).place(x=280, y=100)\n",
    "Button(window, text=\"*\", width=3, height=1, font=(\"arial\", 30, \"bold\"), bg=\"blue\", fg=\"red\", command=lambda: show(\"*\")).place(x=420, y=100)\n",
    "\n",
    "# Number and operator buttons\n",
    "buttons = [\n",
    "    (\"7\", 10, 200), (\"8\", 140, 200), (\"9\", 280, 200), (\"-\", 420, 200),\n",
    "    (\"4\", 10, 300), (\"5\", 140, 300), (\"6\", 280, 300), (\"+\", 420, 300),\n",
    "    (\"1\", 10, 400), (\"2\", 140, 400), (\"3\", 280, 400), (\"0\", 420, 400),\n",
    "    (\".\", 10, 500), (\"=\", 140, 500)\n",
    "]\n",
    "\n",
    "for (text, x, y) in buttons:\n",
    "    if text == \"=\":\n",
    "        Button(window, text=text, width=3, height=1, font=(\"arial\", 30, \"bold\"), bg=\"blue\", fg=\"red\", command=calculate).place(x=x, y=y)\n",
    "    else:\n",
    "        Button(window, text=text, width=3, height=1, font=(\"arial\", 30, \"bold\"), bg=\"blue\", fg=\"red\", command=lambda t=text: show(t)).place(x=x, y=y)\n",
    "\n",
    "# Run the application\n",
    "window.mainloop()\n"
   ]
  },
  {
   "cell_type": "code",
   "execution_count": null,
   "id": "1b670853-9079-4292-a505-7832c8d90388",
   "metadata": {},
   "outputs": [],
   "source": []
  },
  {
   "cell_type": "code",
   "execution_count": null,
   "id": "1e892664-72e8-465f-ad4f-5904b5b55428",
   "metadata": {},
   "outputs": [],
   "source": []
  },
  {
   "cell_type": "code",
   "execution_count": null,
   "id": "65430519-44ef-4933-bfcb-787b9baa44a8",
   "metadata": {},
   "outputs": [],
   "source": []
  }
 ],
 "metadata": {
  "kernelspec": {
   "display_name": "Python 3 (ipykernel)",
   "language": "python",
   "name": "python3"
  },
  "language_info": {
   "codemirror_mode": {
    "name": "ipython",
    "version": 3
   },
   "file_extension": ".py",
   "mimetype": "text/x-python",
   "name": "python",
   "nbconvert_exporter": "python",
   "pygments_lexer": "ipython3",
   "version": "3.12.5"
  },
  "widgets": {
   "application/vnd.jupyter.widget-state+json": {
    "state": {},
    "version_major": 2,
    "version_minor": 0
   }
  }
 },
 "nbformat": 4,
 "nbformat_minor": 5
}
