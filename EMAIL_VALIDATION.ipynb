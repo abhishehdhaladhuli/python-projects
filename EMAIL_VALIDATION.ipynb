{
 "cells": [
  {
   "cell_type": "markdown",
   "id": "66eb3990-98a9-4767-8ab3-73cb721b65bf",
   "metadata": {},
   "source": [
    "# EMAIL VALIDATION"
   ]
  },
  {
   "cell_type": "code",
   "execution_count": null,
   "id": "48a16b01-57f7-4f91-be43-cd71a3be2cf2",
   "metadata": {},
   "outputs": [],
   "source": [
    "import re\n",
    "email=input(\"Enter the email to be validated\")\n",
    "if len(email)>=6:\n",
    "    if match(r\"^[A-Za-z1-9_.+-*/]+@[A-Za-z1-9_]+\\.[A-Za-z1-9+-]{2,}\",email).group()!=None:\n",
    "        print(\"The given email is a valid email.You can go ahead\")\n",
    "else:\n",
    "    print(\"Dear User you have given me a wrong Email Id.Please kindly give Valid Email\")"
   ]
  }
 ],
 "metadata": {
  "kernelspec": {
   "display_name": "Python 3 (ipykernel)",
   "language": "python",
   "name": "python3"
  },
  "language_info": {
   "codemirror_mode": {
    "name": "ipython",
    "version": 3
   },
   "file_extension": ".py",
   "mimetype": "text/x-python",
   "name": "python",
   "nbconvert_exporter": "python",
   "pygments_lexer": "ipython3",
   "version": "3.12.5"
  }
 },
 "nbformat": 4,
 "nbformat_minor": 5
}
