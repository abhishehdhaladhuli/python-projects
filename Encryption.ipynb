{
 "cells": [
  {
   "cell_type": "markdown",
   "id": "665175f7-ba62-4e38-9b2e-9f1fa4bd526f",
   "metadata": {},
   "source": [
    "# Encryption program"
   ]
  },
  {
   "cell_type": "code",
   "execution_count": 12,
   "id": "cc91965a-5487-4339-b638-b8868ca0de45",
   "metadata": {},
   "outputs": [
    {
     "name": "stdout",
     "output_type": "stream",
     "text": [
      "Character mapping created for encryption and decryption.\n"
     ]
    },
    {
     "name": "stdin",
     "output_type": "stream",
     "text": [
      "Enter the message you want to encrypt:  IamAbhishek\n"
     ]
    },
    {
     "name": "stdout",
     "output_type": "stream",
     "text": [
      "\n",
      "Encrypted Message: ^~X;$Io<IK#\n",
      "\n",
      "Decrypted Message: IamAbhishek\n",
      "\n",
      "Decryption successful! ✅\n"
     ]
    }
   ],
   "source": [
    "import random\n",
    "import string \n",
    "\n",
    "# Define character set\n",
    "chars = string.punctuation + string.digits + string.ascii_letters + \" \"\n",
    "chars = list(chars)\n",
    "\n",
    "# Generate a shuffled key\n",
    "key = chars.copy()\n",
    "random.shuffle(key)\n",
    "\n",
    "print(\"Character mapping created for encryption and decryption.\")\n",
    "\n",
    "# ENCRYPTION\n",
    "plain_text = input(\"Enter the message you want to encrypt: \")\n",
    "cipher_text = \"\"\n",
    "\n",
    "for letter in plain_text:\n",
    "    index = chars.index(letter)\n",
    "    cipher_text += key[index]\n",
    "\n",
    "print(f\"\\nEncrypted Message: {cipher_text}\")\n",
    "\n",
    "# DECRYPTION\n",
    "decrypted_text = \"\"\n",
    "\n",
    "for letter in cipher_text:\n",
    "    index = key.index(letter)\n",
    "    decrypted_text += chars[index]\n",
    "\n",
    "print(f\"\\nDecrypted Message: {decrypted_text}\")\n",
    "\n",
    "# Validation\n",
    "if plain_text == decrypted_text:\n",
    "    print(\"\\nDecryption successful! ✅\")\n",
    "else:\n",
    "    print(\"\\nSomething went wrong with decryption. ❌\")\n"
   ]
  },
  {
   "cell_type": "code",
   "execution_count": null,
   "id": "54363395-88e1-42e9-af1d-e2b4d95f317c",
   "metadata": {},
   "outputs": [],
   "source": []
  }
 ],
 "metadata": {
  "kernelspec": {
   "display_name": "Python 3 (ipykernel)",
   "language": "python",
   "name": "python3"
  },
  "language_info": {
   "codemirror_mode": {
    "name": "ipython",
    "version": 3
   },
   "file_extension": ".py",
   "mimetype": "text/x-python",
   "name": "python",
   "nbconvert_exporter": "python",
   "pygments_lexer": "ipython3",
   "version": "3.12.5"
  }
 },
 "nbformat": 4,
 "nbformat_minor": 5
}
