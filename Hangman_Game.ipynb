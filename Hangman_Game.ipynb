{
 "cells": [
  {
   "cell_type": "markdown",
   "id": "51a7b1b1-d2d2-4b37-9534-0954c5a2cc06",
   "metadata": {},
   "source": [
    "# HangMan Game"
   ]
  },
  {
   "cell_type": "code",
   "execution_count": 24,
   "id": "4bb89910-eaca-459b-9662-c0c7146c42eb",
   "metadata": {},
   "outputs": [
    {
     "name": "stdout",
     "output_type": "stream",
     "text": [
      "*************\n",
      " \n",
      " \n",
      " \n",
      "*************\n",
      "_ _ _ _ _ _ _ _ _ _\n"
     ]
    },
    {
     "name": "stdin",
     "output_type": "stream",
     "text": [
      "Enter a letter:  p\n"
     ]
    },
    {
     "name": "stdout",
     "output_type": "stream",
     "text": [
      "*************\n",
      " O \n",
      " \n",
      " \n",
      "*************\n",
      "_ _ _ _ _ _ _ _ _ _\n"
     ]
    },
    {
     "name": "stdin",
     "output_type": "stream",
     "text": [
      "Enter a letter:  s\n"
     ]
    },
    {
     "name": "stdout",
     "output_type": "stream",
     "text": [
      "*************\n",
      " O \n",
      " \n",
      " \n",
      "*************\n",
      "s _ _ _ _ _ _ _ _ _\n"
     ]
    },
    {
     "name": "stdin",
     "output_type": "stream",
     "text": [
      "Enter a letter:  t\n"
     ]
    },
    {
     "name": "stdout",
     "output_type": "stream",
     "text": [
      "*************\n",
      " O \n",
      " \n",
      " \n",
      "*************\n",
      "s t _ _ _ _ _ _ _ _\n"
     ]
    },
    {
     "name": "stdin",
     "output_type": "stream",
     "text": [
      "Enter a letter:  a\n"
     ]
    },
    {
     "name": "stdout",
     "output_type": "stream",
     "text": [
      "*************\n",
      " O \n",
      " \n",
      " \n",
      "*************\n",
      "s t _ a _ _ _ _ _ _\n"
     ]
    },
    {
     "name": "stdin",
     "output_type": "stream",
     "text": [
      "Enter a letter:  r\n"
     ]
    },
    {
     "name": "stdout",
     "output_type": "stream",
     "text": [
      "*************\n",
      " O \n",
      " \n",
      " \n",
      "*************\n",
      "s t r a _ _ _ r r _\n"
     ]
    },
    {
     "name": "stdin",
     "output_type": "stream",
     "text": [
      "Enter a letter:  w\n"
     ]
    },
    {
     "name": "stdout",
     "output_type": "stream",
     "text": [
      "*************\n",
      " O \n",
      " \n",
      " \n",
      "*************\n",
      "s t r a w _ _ r r _\n"
     ]
    },
    {
     "name": "stdin",
     "output_type": "stream",
     "text": [
      "Enter a letter:  h\n"
     ]
    },
    {
     "name": "stdout",
     "output_type": "stream",
     "text": [
      "*************\n",
      " O \n",
      " | \n",
      "   \n",
      "*************\n",
      "s t r a w _ _ r r _\n"
     ]
    },
    {
     "name": "stdin",
     "output_type": "stream",
     "text": [
      "Enter a letter:  b\n"
     ]
    },
    {
     "name": "stdout",
     "output_type": "stream",
     "text": [
      "*************\n",
      " O \n",
      " | \n",
      "   \n",
      "*************\n",
      "s t r a w b _ r r _\n"
     ]
    },
    {
     "name": "stdin",
     "output_type": "stream",
     "text": [
      "Enter a letter:  e\n"
     ]
    },
    {
     "name": "stdout",
     "output_type": "stream",
     "text": [
      "*************\n",
      " O \n",
      " | \n",
      "   \n",
      "*************\n",
      "s t r a w b e r r _\n"
     ]
    },
    {
     "name": "stdin",
     "output_type": "stream",
     "text": [
      "Enter a letter:  q\n"
     ]
    },
    {
     "name": "stdout",
     "output_type": "stream",
     "text": [
      "*************\n",
      " O \n",
      "/|\n",
      "  \n",
      "*************\n",
      "s t r a w b e r r _\n"
     ]
    },
    {
     "name": "stdin",
     "output_type": "stream",
     "text": [
      "Enter a letter:  l\n"
     ]
    },
    {
     "name": "stdout",
     "output_type": "stream",
     "text": [
      "*************\n",
      " O \n",
      "/|\\\n",
      "  \n",
      "*************\n",
      "s t r a w b e r r _\n"
     ]
    },
    {
     "name": "stdin",
     "output_type": "stream",
     "text": [
      "Enter a letter:  e\n"
     ]
    },
    {
     "name": "stdout",
     "output_type": "stream",
     "text": [
      "e is already guessed\n",
      "*************\n",
      " O \n",
      "/|\\\n",
      "  \n",
      "*************\n",
      "s t r a w b e r r _\n"
     ]
    },
    {
     "name": "stdin",
     "output_type": "stream",
     "text": [
      "Enter a letter:  y\n"
     ]
    },
    {
     "name": "stdout",
     "output_type": "stream",
     "text": [
      "*************\n",
      " O \n",
      "/|\\\n",
      "  \n",
      "*************\n",
      "The correct answer was: strawberry\n",
      "🎉 You Won the Game! 🎉\n"
     ]
    }
   ],
   "source": [
    "import random as rd\n",
    "\n",
    "words = (\"apple\", \"orange\", \"banana\", \"coconut\", \"pineapple\", \"strawberry\")\n",
    "\n",
    "hangman_art = {\n",
    "    0: (\" \",\n",
    "        \" \",\n",
    "        \" \"),\n",
    "    1: (\" O \",\n",
    "        \" \",\n",
    "        \" \"),\n",
    "    2: (\" O \",\n",
    "        \" | \",\n",
    "        \"   \"),\n",
    "    3: (\" O \",\n",
    "        \"/|\",\n",
    "        \"  \"),\n",
    "    4: (\" O \",\n",
    "        \"/|\\\\\",\n",
    "        \"  \"),\n",
    "    5: (\" O \",\n",
    "        \"/|\\\\\",\n",
    "        \"/ \"),\n",
    "    6: (\" O \",\n",
    "        \"/|\\\\\",\n",
    "        \"/ \\\\\",\n",
    "        \"The man is hung and you lost the game\"),\n",
    "}\n",
    "\n",
    "def display_man(wrong_guesses):\n",
    "    print(\"*************\")\n",
    "    for line in hangman_art[wrong_guesses]:\n",
    "        print(line)\n",
    "    print(\"*************\")    \n",
    "\n",
    "def display_hint(hint):\n",
    "    print(\" \".join(hint))\n",
    "\n",
    "def display_answer(answer):\n",
    "    print(f\"The correct answer was: {answer}\")\n",
    "\n",
    "def main():\n",
    "    answer = rd.choice(words)\n",
    "    answer_letters = [ch.lower() for ch in answer if ch.isalpha()]  # Extract only letters\n",
    "    hint = [\"_\" if ch.isalpha() else ch for ch in answer]  # Preserve spaces & emojis\n",
    "    wrong_guesses = 0\n",
    "    guessed_letters = set()\n",
    "    is_running = True\n",
    "\n",
    "    while is_running:\n",
    "        display_man(wrong_guesses)\n",
    "        display_hint(hint)\n",
    "        guess = input(\"Enter a letter: \").lower()\n",
    "\n",
    "        if len(guess) != 1 or not guess.isalpha():\n",
    "            print(\"Invalid input. Enter a single letter.\")\n",
    "            continue\n",
    "\n",
    "        if guess in guessed_letters:\n",
    "            print(f\"{guess} is already guessed\")\n",
    "            continue\n",
    "\n",
    "        guessed_letters.add(guess)\n",
    "\n",
    "        if guess in answer_letters:\n",
    "            for i in range(len(answer)):\n",
    "                if answer[i].lower() == guess:\n",
    "                    hint[i] = answer[i]  # Preserve original case\n",
    "        else:\n",
    "            wrong_guesses += 1\n",
    "\n",
    "        if \"_\" not in hint:\n",
    "            display_man(wrong_guesses)\n",
    "            display_answer(answer)\n",
    "            print(\"🎉 You Won the Game! 🎉\")\n",
    "            is_running = False\n",
    "        elif wrong_guesses >= len(hangman_art) - 1:\n",
    "            display_man(wrong_guesses)\n",
    "            display_answer(answer)\n",
    "            print(\"😢 You Lost The Game 😢\")\n",
    "            is_running = False\n",
    "\n",
    "if __name__ == \"__main__\":\n",
    "    main()\n"
   ]
  },
  {
   "cell_type": "code",
   "execution_count": null,
   "id": "aa1a2c2d-a32c-4c18-ba5c-e64ce67a3307",
   "metadata": {},
   "outputs": [],
   "source": []
  }
 ],
 "metadata": {
  "kernelspec": {
   "display_name": "Python 3 (ipykernel)",
   "language": "python",
   "name": "python3"
  },
  "language_info": {
   "codemirror_mode": {
    "name": "ipython",
    "version": 3
   },
   "file_extension": ".py",
   "mimetype": "text/x-python",
   "name": "python",
   "nbconvert_exporter": "python",
   "pygments_lexer": "ipython3",
   "version": "3.12.5"
  },
  "widgets": {
   "application/vnd.jupyter.widget-state+json": {
    "state": {},
    "version_major": 2,
    "version_minor": 0
   }
  }
 },
 "nbformat": 4,
 "nbformat_minor": 5
}
