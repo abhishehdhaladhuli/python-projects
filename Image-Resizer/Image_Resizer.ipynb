{
 "cells": [
  {
   "cell_type": "code",
   "execution_count": 1,
   "id": "1447c578-c186-4588-9383-47497600c7b8",
   "metadata": {},
   "outputs": [
    {
     "name": "stdin",
     "output_type": "stream",
     "text": [
      "Enter the path to the image file:  why_so_serious.jpg\n",
      "Enter the path to save the resized image:  new_why_so_serious.jpg\n",
      "Enter the new width:  100\n",
      "Enter the new height:  100\n"
     ]
    },
    {
     "name": "stdout",
     "output_type": "stream",
     "text": [
      "Image resized and saved at: new_why_so_serious.jpg\n"
     ]
    }
   ],
   "source": [
    "from PIL import Image\n",
    "\n",
    "# Function to resize the image\n",
    "def resize_image(input_path, output_path, width, height):\n",
    "    try:\n",
    "        # Open the image\n",
    "        img = Image.open(input_path)\n",
    "\n",
    "        # Resize the image\n",
    "        resized_img = img.resize((width, height))\n",
    "\n",
    "        # Save the resized image\n",
    "        resized_img.save(output_path)\n",
    "\n",
    "        print(f\"Image resized and saved at: {output_path}\")\n",
    "    except Exception as e:\n",
    "        print(f\"Error: {e}\")\n",
    "\n",
    "# Get user inputs\n",
    "input_path = input(\"Enter the path to the image file: \").strip()\n",
    "output_path = input(\"Enter the path to save the resized image: \").strip()\n",
    "width = int(input(\"Enter the new width: \"))\n",
    "height = int(input(\"Enter the new height: \"))\n",
    "\n",
    "# Resize the image\n",
    "resize_image(input_path, output_path, width, height)\n"
   ]
  },
  {
   "cell_type": "code",
   "execution_count": null,
   "id": "17f3cb5f-63e1-4732-bb90-469c72f1caf0",
   "metadata": {},
   "outputs": [],
   "source": []
  }
 ],
 "metadata": {
  "kernelspec": {
   "display_name": "Python 3 (ipykernel)",
   "language": "python",
   "name": "python3"
  },
  "language_info": {
   "codemirror_mode": {
    "name": "ipython",
    "version": 3
   },
   "file_extension": ".py",
   "mimetype": "text/x-python",
   "name": "python",
   "nbconvert_exporter": "python",
   "pygments_lexer": "ipython3",
   "version": "3.12.5"
  },
  "widgets": {
   "application/vnd.jupyter.widget-state+json": {
    "state": {},
    "version_major": 2,
    "version_minor": 0
   }
  }
 },
 "nbformat": 4,
 "nbformat_minor": 5
}
