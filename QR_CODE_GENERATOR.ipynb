{
 "cells": [
  {
   "cell_type": "markdown",
   "id": "4739fc4d-f856-47b5-b621-324659ae87cd",
   "metadata": {},
   "source": [
    "# QR CODE GENERATOR "
   ]
  },
  {
   "cell_type": "code",
   "execution_count": 24,
   "id": "9f090725-61e4-4f27-8102-8338d5da2d67",
   "metadata": {},
   "outputs": [
    {
     "name": "stdin",
     "output_type": "stream",
     "text": [
      "Enter the file url for which qr code has to be generated  https://chatgpt.com/c/67b2d08c-22c0-800e-9f70-f7af3432299b\n",
      "Enter the file name to which qr code has to be saved  new.png \n",
      "Enter the box color of the qrcode  green\n",
      "Enter the background color of the qrcode white\n"
     ]
    }
   ],
   "source": [
    "import qrcode\n",
    "from PIL import Image\n",
    "\n",
    "# Generate QR code\n",
    "qr = qrcode.QRCode(\n",
    "    version=5,\n",
    "    error_correction=qrcode.constants.ERROR_CORRECT_H,\n",
    "    box_size=10,\n",
    "    border=4,\n",
    ")\n",
    "url=input(\"Enter the file url for which qr code has to be generated \")\n",
    "url_final=input(\"Enter the file name to which qr code has to be saved \")\n",
    "fill_color=input(\"Enter the box color of the qrcode \")\n",
    "backcolor=input(\"Enter the background color of the qrcode\")\n",
    "qr.add_data(url)\n",
    "qr.make(fit=True)\n",
    "# Generate QR code image\n",
    "img = qr.make_image(fill=fill_color, back_color=backcolor)\n",
    "img.save(url_final)\n",
    "img.show()\n"
   ]
  },
  {
   "cell_type": "code",
   "execution_count": null,
   "id": "f9fe5b53-1673-46df-a15c-df35e3463d64",
   "metadata": {},
   "outputs": [],
   "source": []
  }
 ],
 "metadata": {
  "kernelspec": {
   "display_name": "Python 3 (ipykernel)",
   "language": "python",
   "name": "python3"
  },
  "language_info": {
   "codemirror_mode": {
    "name": "ipython",
    "version": 3
   },
   "file_extension": ".py",
   "mimetype": "text/x-python",
   "name": "python",
   "nbconvert_exporter": "python",
   "pygments_lexer": "ipython3",
   "version": "3.12.5"
  }
 },
 "nbformat": 4,
 "nbformat_minor": 5
}
