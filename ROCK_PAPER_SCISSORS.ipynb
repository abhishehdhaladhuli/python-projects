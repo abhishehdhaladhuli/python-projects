{
 "cells": [
  {
   "cell_type": "code",
   "execution_count": 7,
   "id": "7245c411-4287-4bbf-b2c4-65abe5cb591b",
   "metadata": {},
   "outputs": [
    {
     "name": "stdin",
     "output_type": "stream",
     "text": [
      "Enter a choice (rock, paper, scissors):  rock\n"
     ]
    },
    {
     "name": "stdout",
     "output_type": "stream",
     "text": [
      "Player: rock\n",
      "Computer: scissors\n",
      "You have won 🥇\n"
     ]
    },
    {
     "name": "stdin",
     "output_type": "stream",
     "text": [
      "If you would like to continue, enter (YES/NO):  yes\n"
     ]
    },
    {
     "name": "stdout",
     "output_type": "stream",
     "text": [
      "Keep playing the game! 🎲\n"
     ]
    },
    {
     "name": "stdin",
     "output_type": "stream",
     "text": [
      "Enter a choice (rock, paper, scissors):  juio\n"
     ]
    },
    {
     "name": "stdout",
     "output_type": "stream",
     "text": [
      "Invalid choice! Please enter rock, paper, or scissors.\n"
     ]
    },
    {
     "name": "stdin",
     "output_type": "stream",
     "text": [
      "Enter a choice (rock, paper, scissors):  paper\n"
     ]
    },
    {
     "name": "stdout",
     "output_type": "stream",
     "text": [
      "Player: paper\n",
      "Computer: rock\n",
      "You have won 🥇\n"
     ]
    },
    {
     "name": "stdin",
     "output_type": "stream",
     "text": [
      "If you would like to continue, enter (YES/NO):  no\n"
     ]
    },
    {
     "name": "stdout",
     "output_type": "stream",
     "text": [
      "Thank you for playing Rock, Paper, Scissors! 🎮\n"
     ]
    }
   ],
   "source": [
    "import random\n",
    "\n",
    "options = (\"rock\", \"paper\", \"scissors\")\n",
    "\n",
    "while True:\n",
    "    player = input(\"Enter a choice (rock, paper, scissors): \").strip().lower()\n",
    "    \n",
    "    # Validate input\n",
    "    if player not in options:\n",
    "        print(\"Invalid choice! Please enter rock, paper, or scissors.\")\n",
    "        continue  # Restart the loop if input is invalid\n",
    "\n",
    "    computer = random.choice(options)\n",
    "\n",
    "    print(f\"Player: {player}\")\n",
    "    print(f\"Computer: {computer}\")\n",
    "\n",
    "    # Game logic\n",
    "    if player == computer:\n",
    "        print(\"It's a tie!\")\n",
    "    elif (player == \"rock\" and computer == \"scissors\") or \\\n",
    "         (player == \"paper\" and computer == \"rock\") or \\\n",
    "         (player == \"scissors\" and computer == \"paper\"):\n",
    "        print(\"You have won 🥇\")\n",
    "    else:\n",
    "        print(\"You have lost ☠️\")\n",
    "\n",
    "    # Continue or exit\n",
    "    proceed = input(\"If you would like to continue, enter (YES/NO): \").strip().lower()\n",
    "    \n",
    "    if proceed == \"no\":\n",
    "        print(\"Thank you for playing Rock, Paper, Scissors! 🎮\")\n",
    "        break\n",
    "    else:\n",
    "        print(\"Keep playing the game! 🎲\")\n"
   ]
  },
  {
   "cell_type": "code",
   "execution_count": null,
   "id": "7b6ddf26-74f9-4f2a-9494-b9c9971c430e",
   "metadata": {},
   "outputs": [],
   "source": []
  }
 ],
 "metadata": {
  "kernelspec": {
   "display_name": "Python 3 (ipykernel)",
   "language": "python",
   "name": "python3"
  },
  "language_info": {
   "codemirror_mode": {
    "name": "ipython",
    "version": 3
   },
   "file_extension": ".py",
   "mimetype": "text/x-python",
   "name": "python",
   "nbconvert_exporter": "python",
   "pygments_lexer": "ipython3",
   "version": "3.12.5"
  }
 },
 "nbformat": 4,
 "nbformat_minor": 5
}
