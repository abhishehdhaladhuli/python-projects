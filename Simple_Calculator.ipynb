{
 "cells": [
  {
   "cell_type": "code",
   "execution_count": 5,
   "id": "d8bab264-9fe6-487c-9021-a30bf72d17c8",
   "metadata": {},
   "outputs": [
    {
     "name": "stdin",
     "output_type": "stream",
     "text": [
      "Enter an operator (+, -, *, /, **):  -\n",
      "Enter the first number:  6\n",
      "Enter the second number:  3\n"
     ]
    },
    {
     "name": "stdout",
     "output_type": "stream",
     "text": [
      "The result is 3\n"
     ]
    },
    {
     "name": "stdin",
     "output_type": "stream",
     "text": [
      "Do you want to continue? (yes/no):  no\n"
     ]
    },
    {
     "name": "stdout",
     "output_type": "stream",
     "text": [
      "Thank you for using the calculator!\n"
     ]
    }
   ],
   "source": [
    "while True:\n",
    "    operator = input(\"Enter an operator (+, -, *, /, **): \")\n",
    "    num1 = int(input(\"Enter the first number: \"))\n",
    "    num2 = int(input(\"Enter the second number: \"))\n",
    "\n",
    "    match operator:\n",
    "        case '+':\n",
    "            print('The result is', num1 + num2)\n",
    "        case '-':\n",
    "            print('The result is', num1 - num2)\n",
    "        case '*':\n",
    "            print('The result is', num1 * num2)\n",
    "        case '/':\n",
    "            if num2 != 0:\n",
    "                print('The result is', num1 / num2)\n",
    "            else:\n",
    "                print(\"Error: Division by zero is not allowed!\")\n",
    "        case '**':\n",
    "            print('The result is', num1 ** num2)\n",
    "        case _:\n",
    "            print(\"Enter a valid operator.\")\n",
    "\n",
    "    proceed = input(\"Do you want to continue? (yes/no): \").strip().lower()\n",
    "    if proceed != 'yes':\n",
    "        print(\"Thank you for using the calculator!\")\n",
    "        break\n",
    "    else:\n",
    "        print(\"Welcome again to the simple calculator!\")\n"
   ]
  },
  {
   "cell_type": "code",
   "execution_count": null,
   "id": "f0dc82fc-2273-49ff-bb2a-993a39291028",
   "metadata": {},
   "outputs": [],
   "source": []
  }
 ],
 "metadata": {
  "kernelspec": {
   "display_name": "Python 3 (ipykernel)",
   "language": "python",
   "name": "python3"
  },
  "language_info": {
   "codemirror_mode": {
    "name": "ipython",
    "version": 3
   },
   "file_extension": ".py",
   "mimetype": "text/x-python",
   "name": "python",
   "nbconvert_exporter": "python",
   "pygments_lexer": "ipython3",
   "version": "3.12.5"
  }
 },
 "nbformat": 4,
 "nbformat_minor": 5
}
