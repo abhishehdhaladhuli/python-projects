{
 "cells": [
  {
   "cell_type": "code",
   "execution_count": 5,
   "id": "9b6d761b-c4f3-400c-b20c-2dba071ad609",
   "metadata": {},
   "outputs": [
    {
     "name": "stdin",
     "output_type": "stream",
     "text": [
      "Enter the temperature  58\n",
      "Enter the units of the given temperature in (C/F) f\n"
     ]
    },
    {
     "name": "stdout",
     "output_type": "stream",
     "text": [
      "The Temperature in celsius is :52.0ºC\n"
     ]
    },
    {
     "name": "stdin",
     "output_type": "stream",
     "text": [
      "Do you want to continue? (yes/no):  yes\n"
     ]
    },
    {
     "name": "stdout",
     "output_type": "stream",
     "text": [
      "Welcome again to the simple Temperature conversion calculator!\n"
     ]
    },
    {
     "name": "stdin",
     "output_type": "stream",
     "text": [
      "Enter the temperature  57\n",
      "Enter the units of the given temperature in (C/F) c\n"
     ]
    },
    {
     "name": "stdout",
     "output_type": "stream",
     "text": [
      "The Temperature in farenheit is :134.6ºF\n"
     ]
    },
    {
     "name": "stdin",
     "output_type": "stream",
     "text": [
      "Do you want to continue? (yes/no):  no\n"
     ]
    },
    {
     "name": "stdout",
     "output_type": "stream",
     "text": [
      "Thank you for using the calculator!\n"
     ]
    }
   ],
   "source": [
    "while True:\n",
    "    temperature=int(input(\"Enter the temperature \"))\n",
    "    units=input(\"Enter the units of the given temperature in (C/F)\").strip().upper()\n",
    "    if units=='C':\n",
    "        temp=round((9*temperature)/5+32,1)\n",
    "        print(f\"The Temperature in farenheit is :{temp}ºF\")\n",
    "    elif units=='F':\n",
    "        temp=round((temp-32)*5/9,1)\n",
    "        print(f\"The Temperature in celsius is :{temp}ºC\")\n",
    "    else:\n",
    "        print(f\"The given {units} is not a valid one \")\n",
    "    proceed = input(\"Do you want to continue? (yes/no): \").strip().lower()\n",
    "    if proceed != 'yes':\n",
    "        print(\"Thank you for using the calculator!\")\n",
    "        break\n",
    "    else:\n",
    "        print(\"Welcome again to the simple Temperature conversion calculator!\")\n",
    "    \n",
    "        "
   ]
  },
  {
   "cell_type": "code",
   "execution_count": null,
   "id": "9ec2ad56-8374-42fb-90d3-cd5694d5f0ee",
   "metadata": {},
   "outputs": [],
   "source": []
  }
 ],
 "metadata": {
  "kernelspec": {
   "display_name": "Python 3 (ipykernel)",
   "language": "python",
   "name": "python3"
  },
  "language_info": {
   "codemirror_mode": {
    "name": "ipython",
    "version": 3
   },
   "file_extension": ".py",
   "mimetype": "text/x-python",
   "name": "python",
   "nbconvert_exporter": "python",
   "pygments_lexer": "ipython3",
   "version": "3.12.5"
  }
 },
 "nbformat": 4,
 "nbformat_minor": 5
}
