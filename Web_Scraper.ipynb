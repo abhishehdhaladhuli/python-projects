{
 "cells": [
  {
   "cell_type": "code",
   "execution_count": 23,
   "id": "3fb42592-4b1a-4a31-962a-04908b32103c",
   "metadata": {},
   "outputs": [
    {
     "name": "stdout",
     "output_type": "stream",
     "text": [
      "🔎 Dynamic Web Scraper\n"
     ]
    },
    {
     "name": "stdin",
     "output_type": "stream",
     "text": [
      "Enter the URL you want to scrape:  https://www.google.com/\n",
      "Enter the HTML tag you want to extract (e.g., h1, p, a, div):  div\n"
     ]
    },
    {
     "name": "stdout",
     "output_type": "stream",
     "text": [
      "\n",
      "Found 12 <div> tags:\n",
      "\n",
      "1. Search Images Maps Play YouTube News Gmail Drive More »Web History | Settings | Sign in\n",
      "2. Search Images Maps Play YouTube News Gmail Drive More »\n",
      "3. Web History | Settings | Sign in\n",
      "4. \n",
      "5. \n",
      "6. \n",
      "7. \n",
      "8. Google offered in:  हिन्दी বাংলা తెలుగు मराठी தமிழ் ગુજરાતી ಕನ್ನಡ മലയാളം ਪੰਜਾਬੀ\n",
      "9. Google offered in:  हिन्दी বাংলা తెలుగు मराठी தமிழ் ગુજરાતી ಕನ್ನಡ മലയാളം ਪੰਜਾਬੀ\n",
      "10. Google offered in:  हिन्दी বাংলা తెలుగు मराठी தமிழ் ગુજરાતી ಕನ್ನಡ മലയാളം ਪੰਜਾਬੀ\n",
      "11. AdvertisingBusiness SolutionsAbout GoogleGoogle.co.in\n",
      "12. AdvertisingBusiness SolutionsAbout GoogleGoogle.co.in\n"
     ]
    }
   ],
   "source": [
    "import requests\n",
    "from bs4 import BeautifulSoup\n",
    "\n",
    "# Function to scrape data\n",
    "def scrape_website(url, tag):\n",
    "    try:\n",
    "        # Send a GET request to the URL\n",
    "        response = requests.get(url)\n",
    "        # Parse HTML content\n",
    "        soup = BeautifulSoup(response.text, 'html.parser')\n",
    "\n",
    "        # Find all specified tags\n",
    "        elements = soup.find_all(tag)\n",
    "\n",
    "        # Display results\n",
    "        if elements:\n",
    "            print(f\"\\nFound {len(elements)} <{tag}> tags:\\n\")\n",
    "            for i, element in enumerate(elements, 1):\n",
    "                print(f\"{i}. {element.text.strip()}\")\n",
    "        else:\n",
    "            print(f\"\\nNo <{tag}> tags found on the page.\")\n",
    "    \n",
    "    except:\n",
    "        print(\"Error fetching the webpage\")\n",
    "\n",
    "# Main function to take user input\n",
    "def main():\n",
    "    print(\"🔎 Dynamic Web Scraper\")\n",
    "    \n",
    "    url = input(\"Enter the URL you want to scrape: \").strip()\n",
    "    tag = input(\"Enter the HTML tag you want to extract (e.g., h1, p, a, div): \").strip()\n",
    "\n",
    "    scrape_website(url, tag)\n",
    "\n",
    "# Run the script\n",
    "if __name__ == \"__main__\":\n",
    "    main()\n"
   ]
  },
  {
   "cell_type": "code",
   "execution_count": null,
   "id": "3828a1dd-e26a-4e5a-969f-e62aae6beae6",
   "metadata": {},
   "outputs": [],
   "source": []
  }
 ],
 "metadata": {
  "kernelspec": {
   "display_name": "Python 3 (ipykernel)",
   "language": "python",
   "name": "python3"
  },
  "language_info": {
   "codemirror_mode": {
    "name": "ipython",
    "version": 3
   },
   "file_extension": ".py",
   "mimetype": "text/x-python",
   "name": "python",
   "nbconvert_exporter": "python",
   "pygments_lexer": "ipython3",
   "version": "3.12.5"
  },
  "widgets": {
   "application/vnd.jupyter.widget-state+json": {
    "state": {},
    "version_major": 2,
    "version_minor": 0
   }
  }
 },
 "nbformat": 4,
 "nbformat_minor": 5
}
